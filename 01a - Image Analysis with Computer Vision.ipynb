{
 "cells": [
  {
   "cell_type": "markdown",
   "metadata": {},
   "source": [
    "# Computer Vision 서비스로 이미지 분석하기\n",
    "\n",
    "![A robot holding a picture](./images/computer_vision.jpg)\n",
    "\n",
    "*Computer Vision* 은 인공지능(AI)의 한부분으로써 실시간으로 카메라를 이용하거나 이미지나 비디오를 분석하는 등 \"볼\"수 있는 인공지능 시스템 개발을 하는 것은다.  이것은 디지털 이미지가 본질적으로 단지 숫자로된 픽셀의 값으로 이루어져 있음으로 해새서 가능하며 우리는 이 픽셀값을 *features*로 사용하여 머신러닝 모델로 하여금 학습을 하여 이미지를 분류하고, 하나의 이미지에서 객체를 찾아내고 심시저은 사진에 대한 텍스트 기반의 요약정보를 만들어 낼 수 있다.\n",
    "\n",
    "## Computer Vision Cognitive 서비스 사용하기\n",
    "\n",
    "Microsoft Azure에는 일반적인 AI 기능을 캡슐화하는 *Cognitive 서비스*가 포함되어 있으며, 여기에는 컴퓨터 비전 솔루션을 구축하는 데 도움이 될 수 있는 기능도 포함되어 있습니다.\n",
    "\n",
    "*Computer Vision* Cognitive 서비스는 Azure에서 컴퓨터 비전 탐사를 위한 명확한 출발점을 제공합니다. 사전 훈련된 기계 학습 모델을 사용하여 이미지를 분석하고 이에 대한 정보를 추출한다.\n",
    "\n",
    "예를 들어 Northwind Traders가 AI 서비스가 매장을 모니터링해 지원이 필요한 고객을 파악하고 직원들에게 도움을 지시하는 '스마트 스토어'를 구현하기로 했다고 가정해보자. 컴퓨터 비전 서비스를 이용하면 매장 곳곳에서 카메라가 촬영한 영상을 분석해 그들이 묘사한 내용에 대한 의미 있는 설명을 제공할 수 있다..\n",
    "\n",
    "### Cognitive Services 리소스 생성하기\n",
    "\n",
    "Azure subscription에서 **Cognitive Services**를 추가하는 것으로 시작하자. \n",
    "\n",
    "1. 브라우저의 새로운 탭을 열고, Azure portal( https://portal.azure.com)을 입력하고 , Microsoft계정으로 로그인한다..\n",
    "2. **&#65291;리소스 만들기** 버튼을 클릭하고, *Cognitive Services* 서비스를 찾은 다음, **Cognitive Services** 리소스를 다음과 같은 내용으로 생성한다.\n",
    "    - **이름**: *유일한 이름을 입력한다(가능하면 영문과 숫자사용)*.\n",
    "    - **구독**: *Azure 구독선택*.\n",
    "    - **위치**: *가능한 위치(한국 중부 추천)*:\n",
    "    - **가격책정계층**: 표준 S0\n",
    "    - **리소스 그룹**: *원하는 유리한 이름(가능하면 영문과 숫자사용)*.\n",
    "3. 배포가 완료될 때까지 기다린다. 그런 다음 Cognitive Services 리소스로 이동하여 **개요* 페이지에서 링크를 클릭하여 서비스 키를 관리한다. 클라이언트 응용 프로그램에서 Cognitive Services 리소스에 연결하려면 엔드포인트과 키가 필요하다.\n",
    "\n",
    "### Cognitive Services 리소스에 있는 키와 엔드포인트 가져오기\n",
    "\n",
    "Cgnitive Services 리소스를 사용하기 위해서는, 클라이언트 응용프로그램에서는 엔드포인트와 인증 키가 필요합니다.client applications need its endpoint and authentication key:\n",
    "\n",
    "1. Azure portal에서, Cgnitive Services 리소스를 선택하고 **키 및 엔트포인트** 페이지를 선택한 다음 **키1** 을 복사하여 아래의 **YOUR_COG_KEY**.를 붙여 넣는다.\n",
    "2. 리소스에 있는 **엔드포인트** 를 복사해서 아래의 **YOUR_COG_ENDPOINT**.에 붙여 넣는다. \n",
    "3. 셀을 선택한 다음 셀 왼쪽에있는 **셀 실행**(&#9655;) 버튼을 클릭하여 아래 코드를 실행한다."
   ]
  },
  {
   "cell_type": "code",
   "execution_count": null,
   "metadata": {
    "gather": {
     "logged": 1599691487445
    }
   },
   "outputs": [],
   "source": [
    "cog_key = 'YOUR_COG_KEY'\n",
    "cog_endpoint = 'YOUR_COG_ENDPOINT'\n",
    "\n",
    "print('Ready to use cognitive services at {} using key {}'.format(cog_endpoint, cog_key))"
   ]
  },
  {
   "cell_type": "markdown",
   "metadata": {},
   "source": [
    "이제 키 및 엔드포인트를 설정했으므로 컴퓨터 비전 서비스를 사용하여 이미지를 분석할 수 있습니다.\n",
    "\n",
    "Python에서 이 작업을 수행하려면 다음 셀을 실행하여 Azure Cognitive Services ComputerVision 패키지를 설치해야 합니다."
   ]
  },
  {
   "cell_type": "code",
   "execution_count": null,
   "metadata": {
    "tags": []
   },
   "outputs": [],
   "source": [
    "! pip install azure-cognitiveservices-vision-computervision "
   ]
  },
  {
   "cell_type": "markdown",
   "metadata": {},
   "source": [
    "이제 준비가 다 되었습니다!\n",
    "\n",
    "다음 셀을 실행하여 */data/vision/store_cam1.jpg* 파일에서 이미지에 대한 설명을 가져옵니다."
   ]
  },
  {
   "cell_type": "code",
   "execution_count": null,
   "metadata": {
    "gather": {
     "logged": 1599691518279
    }
   },
   "outputs": [],
   "source": [
    "from azure.cognitiveservices.vision.computervision import ComputerVisionClient\n",
    "from msrest.authentication import CognitiveServicesCredentials\n",
    "from python_code import vision\n",
    "import os\n",
    "%matplotlib inline\n",
    "\n",
    "# 이미지 파일 경로 가져오기\n",
    "image_path = os.path.join('data', 'vision', 'store_cam1.jpg')\n",
    "\n",
    "# Computer Vsion 서비스를 위한 클라이언트 가져오기\n",
    "computervision_client = ComputerVisionClient(cog_endpoint, CognitiveServicesCredentials(cog_key))\n",
    "\n",
    "# Computer Vision 서비스로부터 설명가져오기\n",
    "image_stream = open(image_path, \"rb\")\n",
    "description = computervision_client.describe_image_in_stream(image_stream)\n",
    "\n",
    "# 이미지와 캡션을 보여주기Display (helper_scripts/vision.py에 있는 코드)\n",
    "vision.show_image_caption(image_path, description)\n"
   ]
  },
  {
   "cell_type": "markdown",
   "metadata": {},
   "source": [
    "상당히 정확한 것 같다.\n",
    "\n",
    "다른 이미지를 만들어 보자"
   ]
  },
  {
   "cell_type": "code",
   "execution_count": null,
   "metadata": {
    "gather": {
     "logged": 1599691524330
    }
   },
   "outputs": [],
   "source": [
    "# 이미지 파일 경로 가져오기\n",
    "image_path = os.path.join('data', 'vision', 'store_cam2.jpg')\n",
    "\n",
    "# Computer Vision 서비스로부터 설명가져오기\n",
    "image_stream = open(image_path, \"rb\")\n",
    "description = computervision_client.describe_image_in_stream(image_stream)\n",
    "\n",
    "# 이미지와 캡션을 보여주기Display (helper_scripts/vision.py에 있는 코드)\n",
    "vision.show_image_caption(image_path, description)"
   ]
  },
  {
   "cell_type": "markdown",
   "metadata": {},
   "source": [
    "다시 말하지만, 제안된 캡션은 꽤 정확한 것 같다..\n",
    "\n",
    "## 이미지 특징 분석하기\n",
    "\n",
    "지금까지 컴퓨터 비전 서비스를 사용하여 두 개의 이미지에 대한 설명 캡션을 생성했지만, 더 많은 작업을 수행할 수 있다. ComputerVision 서비스는 다음과 같은 세부 정보를 추출할 수 있는 분석 기능을 제공한다.:\n",
    "\n",
    "- 이미지에서 탐지된 일반적인 개체 유형의 위치\n",
    "- 이미지에서 사람의 얼굴 위치와 대략적인 연령\n",
    "- 이미지에 '성인', '선정적' 또는 '잔혹물' 콘텐츠가 포함되어 있는지 여부.\n",
    "- 데이터베이스의 이미지와 연결하여 쉽게 찾을 수 있는 관련 태그\n",
    "\n",
    "다음코드를 수행하여 쇼핑객들의 이미지를 분석해보자."
   ]
  },
  {
   "cell_type": "code",
   "execution_count": null,
   "metadata": {
    "gather": {
     "logged": 1599691530747
    }
   },
   "outputs": [],
   "source": [
    "# 이미지 파일 경로 가져오기\n",
    "image_path = os.path.join('data', 'vision', 'store_cam1.jpg')\n",
    "\n",
    "# 복석하기 원하는 특성들 지정하기\n",
    "features = ['Description', 'Tags', 'Adult', 'Objects', 'Faces']\n",
    "\n",
    "# Computer Vision 서비스로부터 분석한 것 가져오기\n",
    "image_stream = open(image_path, \"rb\")\n",
    "analysis = computervision_client.analyze_image_in_stream(image_stream, visual_features=features)\n",
    "\n",
    "# 분석 결과를 보여주기S(helper_scripts/vision.py에 있는 코드 사용)\n",
    "vision.show_image_analysis(image_path, analysis)"
   ]
  },
  {
   "cell_type": "markdown",
   "metadata": {},
   "source": [
    "## 심화 학습 내용\n",
    "\n",
    "이 노트북에서 살펴본 기능 외에도 Computer Vision Cognitive 서비스에는 다음과 같은 기능이 포함되어 있다.\n",
    "\n",
    "- 이미지에서 유명인사를 식별.\n",
    "- 이미지에서 브랜드 로고 감지\n",
    "- 영상에서 텍스트를 읽기 위해 OCR(광학적 문자 인식)을 수행\n",
    "\n",
    "Computer Vision Cognitive 서비스에 대한 자세한 내용은 문서를 참조하기 [Computer Vision documentation](https://docs.microsoft.com/azure/cognitive-services/computer-vision/)\n"
   ]
  },
  {
   "cell_type": "code",
   "execution_count": null,
   "metadata": {},
   "outputs": [],
   "source": []
  }
 ],
 "metadata": {
  "kernel_info": {
   "name": "python3-azureml"
  },
  "kernelspec": {
   "display_name": "Python 3.6 - AzureML",
   "language": "python",
   "name": "python3-azureml"
  },
  "language_info": {
   "codemirror_mode": {
    "name": "ipython",
    "version": 3
   },
   "file_extension": ".py",
   "mimetype": "text/x-python",
   "name": "python",
   "nbconvert_exporter": "python",
   "pygments_lexer": "ipython3",
   "version": "3.6.9"
  },
  "nteract": {
   "version": "nteract-front-end@1.0.0"
  }
 },
 "nbformat": 4,
 "nbformat_minor": 2
}
