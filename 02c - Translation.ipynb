{
 "cells": [
  {
   "cell_type": "markdown",
   "metadata": {},
   "source": [
    "# 번역(Translation)\n",
    "\n",
    "인류 문명이 발전할 수 있었던 원동력 중 하나는 서로 의사소통하는 능력이다. 대부분의 인간의 노력에서 의사소통이 핵심이다.\n",
    "\n",
    "![A multilingual robot](./images/translation.jpg)\n",
    "\n",
    "인공지능(AI)은 언어 간 텍스트 또는 음성을 번역하여 의사소통을 단순화하는 데 도움을 줄 수 있으며 국가 및 문화 간 의사소통의 장벽을 제거하는 데 도움이 될 수 있다..\n",
    "\n",
    "## Cognitive Services resource\n",
    "\n",
    "Azure에서 여러 언어끼리 번역을 하기 위해서 Cognitive 서비스를 사용할 수 있다.\n",
    "\n",
    "이미 만들어진 Cognitive 서비스가없다면 다음과 같은 순서로 Azure 구독에서 **Cognitive Services** 리소스를 생성할 수 있다.\n",
    "\n",
    "1. 브라우저의 새로운 탭을 열고, Azure portal( https://portal.azure.com)을 입력하고 , Microsoft계정으로 로그인한다..\n",
    "2. **&#65291;리소스 만들기** 버튼을 클릭하고, *Cognitive Services* 서비스를 찾은 다음, **Cognitive Services** 리소스를 다음과 같은 내용으로 생성한다.\n",
    "    - **이름**: *유일한 이름을 입력한다(가능하면 영문과 숫자사용)*.\n",
    "    - **구독**: *Azure 구독선택*.\n",
    "    - **위치**: *가능한 위치(한국 중부 추천)*:\n",
    "    - **가격책정계층**: 표준 S0\n",
    "    - **리소스 그룹**: *원하는 유리한 이름(가능하면 영문과 숫자사용)*.\n",
    "3. 배포가 완료될 때까지 기다린다. 그런 다음 Cognitive Services 리소스로 이동하여 **개요* 페이지에서 링크를 클릭하여 서비스 키를 관리한다. 클라이언트 응용 프로그램에서 Cognitive Services 리소스에 연결하려면 엔드포인트과 키가 필요하다.\n",
    "\n",
    "\n",
    "### Cognitive Services 리소스에 있는 키와 엔드포인트 가져오기\n",
    "\n",
    "Cgnitive Services 리소스를 사용하기 위해서는, 클라이언트 응용프로그램에서는 엔드포인트와 인증 키가 필요하다.\n",
    "\n",
    "1. Azure portal에서, Cgnitive Services 리소스를 선택하고 **키 및 엔트포인트** 페이지를 선택한 다음 **키1** 을 복사하여 아래의 **YOUR_COG_KEY**.를 붙여 넣는다.\n",
    "2. 리소스에 있는 **엔드포인트** 를 복사해서 아래의 **YOUR_COG_ENDPOINT**.에 붙여 넣는다. \n",
    "3. 리소스에 있는 **위치** 를 복사해서 아래의 **YOUR_COG_REGION**.에 붙여 넣는다. \n",
    "4. 셀을 선택한 다음 셀 왼쪽에있는 **셀 실행**(&#9655;) 버튼을 클릭하여 아래 코드를 실행한다."
   ]
  },
  {
   "cell_type": "code",
   "execution_count": null,
   "metadata": {
    "gather": {
     "logged": 1599695377020
    }
   },
   "outputs": [],
   "source": [
    "cog_key = 'YOUR_COG_KEY'\n",
    "cog_endpoint = 'YOUR_COG_ENDPOINT'\n",
    "cog_region = 'YOUR_COG_REGION'\n",
    "\n",
    "print('Ready to use cognitive services in {} using key {}'.format(cog_region, cog_key))"
   ]
  },
  {
   "cell_type": "markdown",
   "metadata": {},
   "source": [
    "## 텍스트 번역하기\n",
    "\n",
    "\n",
    "**Translator Text** 서비스는 이름에서 알 수 있듯이 한 언어에서 다른 언어로 텍스트를 변환할 수 있도록 지원한다.\n",
    "\n",
    "이 서비스에는 Python SDK가 없지만 REST 인터페이스를 사용하여 HTTP를 통해 엔드포인트에 요청을 제출할 수 있으며, **requests** 라이브러리를 사용하면 Python에서 비교적 쉽게 수행할 수 있다. 번역할 텍스트와 그 결과 번역된 텍스트에 대한 정보는 JSON 형식으로 교환한다.\n",
    "\n",
    "다음 셀을 실행하여 이 작업을 수행하는 함수를 만든 다음 영어에서 프랑스어로 간단한 번역에 함수를 테스트 해보자."
   ]
  },
  {
   "cell_type": "code",
   "execution_count": null,
   "metadata": {
    "gather": {
     "logged": 1599695393341
    }
   },
   "outputs": [],
   "source": [
    "# Text Translation로 REST 요청을 보내는데 사용할 함수를 생성한다.\n",
    "def translate_text(cog_region, cog_key, text, to_lang='fr', from_lang='en'):\n",
    "    import requests, uuid, json\n",
    "\n",
    "    # Text Translator 서비스 REST 요청을 위한 URL을 만든다.\n",
    "    path = 'https://api.cognitive.microsofttranslator.com/translate?api-version=3.0'\n",
    "    params = '&from={}&to={}'.format(from_lang, to_lang)\n",
    "    constructed_url = path + params\n",
    "\n",
    "    # Cognitive 리소스에 있는 키와 지역으로 요청 해더를 구성한다.\n",
    "    headers = {\n",
    "        'Ocp-Apim-Subscription-Key': cog_key,\n",
    "        'Ocp-Apim-Subscription-Region':cog_region,\n",
    "        'Content-type': 'application/json',\n",
    "        'X-ClientTraceId': str(uuid.uuid4())\n",
    "    }\n",
    "\n",
    "    # 번역할 텍스트를 Body에 추가한다.\n",
    "    body = [{\n",
    "        'text': text\n",
    "    }]\n",
    "\n",
    "    # 번역본을 가져온다.\n",
    "    request = requests.post(constructed_url, headers=headers, json=body)\n",
    "    response = request.json()\n",
    "    return response[0][\"translations\"][0][\"text\"]\n",
    "\n",
    "\n",
    "# 함수를 테스트한다.\n",
    "text_to_translate = \"Hello\"\n",
    "\n",
    "translation = translate_text(cog_region, cog_key, text_to_translate, to_lang='fr', from_lang='en')\n",
    "print('{} -> {}'.format(text_to_translate,translation))"
   ]
  },
  {
   "cell_type": "markdown",
   "metadata": {},
   "source": [
    "이 서비스는 영어 텍스트 \"Hello\"를 프랑스어 \"Bonjour\"로 번역했어야 했다.\n",
    "\n",
    "언어는 표준 언어 약어 시스템을 사용하여 지정되며, 영어의 경우 *en*, 프랑스어의 경우 *fr*를 사용한다(한국어는 **ko**이다). 특정 문화를 포함하는 약어를 사용할 수도 있다. 이 약어는 동일한 언어가 서로 다른 지리적 영역(대개 철자법)에서 사용될 때 유용하다. 예를 들어 *en-US*는 미국식 영어를, *en-GB*는 영국식 영어를 나타낸다.\n",
    "\n",
    "다음 셀을 실행하여 영국 영어로 된 텍스트를 이탈리아어로 번역해보라."
   ]
  },
  {
   "cell_type": "code",
   "execution_count": null,
   "metadata": {
    "gather": {
     "logged": 1599695400335
    }
   },
   "outputs": [],
   "source": [
    "text_to_translate = \"Hello\"\n",
    "\n",
    "translation = translate_text(cog_region, cog_key, text_to_translate, to_lang='it-IT', from_lang='en-GB')\n",
    "print('{} -> {}'.format(text_to_translate,translation))"
   ]
  },
  {
   "cell_type": "markdown",
   "metadata": {},
   "source": [
    "이제 US 영어를 중국어로 번역하는 테스트를 해보자"
   ]
  },
  {
   "cell_type": "code",
   "execution_count": null,
   "metadata": {
    "gather": {
     "logged": 1599695403076
    }
   },
   "outputs": [],
   "source": [
    "text_to_translate = \"Hello\"\n",
    "\n",
    "translation = translate_text(cog_region, cog_key, text_to_translate, to_lang='zh-CN', from_lang='en-US')\n",
    "print('{} -> {}'.format(text_to_translate,translation))"
   ]
  },
  {
   "cell_type": "markdown",
   "metadata": {},
   "source": [
    "## 음성 번역(Speech Translation)\n",
    "\n",
    "**Speech** 서비스를 사용하여 구어를 번역할 수 있다.\n",
    "\n",
    "Speech 서비스는 마이크나 오디오 파일에서 음성 입력을 변환하는 데 사용할 수 있는 Python SDK를 제공하므로 이를 설치해야한다..\n"
   ]
  },
  {
   "cell_type": "code",
   "execution_count": null,
   "metadata": {},
   "outputs": [],
   "source": [
    "! pip install azure.cognitiveservices.speech"
   ]
  },
  {
   "cell_type": "markdown",
   "metadata": {
    "nteract": {
     "transient": {
      "deleting": false
     }
    }
   },
   "source": [
    "이제 다음 셀을 실행하여 Speech SDK를 사용하여 소리 음성으로 번역하는 함수를 테스트 할 수 있다.\n",
    "\n",
    "> **주의**: 소리를 듣기 위해서 스피커가 필요하다."
   ]
  },
  {
   "cell_type": "code",
   "execution_count": null,
   "metadata": {
    "gather": {
     "logged": 1599695532629
    }
   },
   "outputs": [],
   "source": [
    "# 하나의 언어에서 다른 언어로 텍스트를 번역하기 위한 함수를 만든다.\n",
    "def translate_speech(cog_region, cog_key, audio_file=None, to_lang='fr-FR', from_lang='en-US'):\n",
    "    from azure.cognitiveservices.speech import SpeechConfig, AudioConfig, ResultReason\n",
    "    from azure.cognitiveservices.speech.translation import SpeechTranslationConfig, TranslationRecognizer\n",
    "\n",
    "    # 음성 번역 서비스를 설정한다\n",
    "    translation_config = SpeechTranslationConfig(subscription=cog_key, region=cog_region)\n",
    "    translation_config.speech_recognition_language = from_lang\n",
    "    translation_config.add_target_language(to_lang)\n",
    "\n",
    "    # 음성 입력을 구성한다\n",
    "    if audio_file is None:\n",
    "        audio_config = AudioConfig() # 기본 입력을 사용(마이크)\n",
    "    else:\n",
    "        audio_config = AudioConfig(filename=audio_file) # 입력 파일 사용\n",
    "\n",
    "    # 번역 인식도구를 생성하고 그것을 이용하여 음성 입력을 번역한다\n",
    "    recognizer = TranslationRecognizer(translation_config, audio_config)\n",
    "    result = recognizer.recognize_once()\n",
    "\n",
    "    # 제대로 가져왔는가?\n",
    "    translation = ''\n",
    "    speech_text = ''\n",
    "    if result.reason == ResultReason.TranslatedSpeech:\n",
    "        speech_text = result.text\n",
    "        translation =  result.translations[to_lang]\n",
    "    elif result.reason == ResultReason.RecognizedSpeech:\n",
    "        speech_text = result.text\n",
    "        translation =  'Unable to translate speech'\n",
    "    else:\n",
    "        translation = 'Unknown'\n",
    "        speech_text = 'Unknown'\n",
    "\n",
    "    # 번역본을 되돌려준다\n",
    "    return speech_text, translation\n",
    "    \n",
    "\n",
    "# 함수를 테스트 한다\n",
    "import os, IPython\n",
    "\n",
    "file_name = 'english.wav'\n",
    "file_path = os.path.join('data', 'translation', file_name)\n",
    "speech, translated_speech = translate_speech(cog_region, cog_key, file_path, to_lang='es', from_lang='en-US')\n",
    "result = '{} -> {}'.format(speech, translated_speech)\n",
    "\n",
    "# 요디오를 실행하고 번역된 텍스트를 나타낸다\n",
    "IPython.display.display(IPython.display.Audio(file_path, autoplay=True),\n",
    "                        IPython.display.HTML(result))"
   ]
  },
  {
   "cell_type": "markdown",
   "metadata": {},
   "source": [
    "\"to\" 언어에는 2자로 된 언어 코드(예: *en*)를 사용하여 식별해야 하며, \"from\" 언어에는 문화 지표(예: *en-US*)가 포함되어야 한다(한국어의 경우 **ko-kr**임).\n",
    "\n",
    "불어에서 영어로 번역해 보자\n"
   ]
  },
  {
   "cell_type": "code",
   "execution_count": null,
   "metadata": {
    "gather": {
     "logged": 1599695542192
    }
   },
   "outputs": [],
   "source": [
    "import os, IPython\n",
    "\n",
    "file_name = 'french.wav'\n",
    "file_path = os.path.join('data', 'translation', file_name)\n",
    "speech, translated_speech = translate_speech(cog_region, cog_key, file_path, to_lang='en', from_lang='fr-FR')\n",
    "result = '{} -> {}'.format(speech, translated_speech)\n",
    "\n",
    "# 오디오를 실행하고 변역된 텍스트를 나타낸다.\n",
    "IPython.display.display(IPython.display.Audio(file_path, autoplay=True),\n",
    "                        IPython.display.HTML(result))"
   ]
  },
  {
   "cell_type": "markdown",
   "metadata": {},
   "source": [
    "## 심화학습\n",
    "\n",
    "번역에 대해서 좀더 살펴보려면 [텍스트 번역기(Translator Text)](https://docs.microsoft.com/azure/cognitive-services/translator/)와 [Speech서비스를 활용한 음성번역 서비스](https://docs.microsoft.com/azure/cognitive-services/speech-service/index-speech-translation) 문서를 참조하기 바란다."
   ]
  }
 ],
 "metadata": {
  "kernel_info": {
   "name": "python3-azureml"
  },
  "kernelspec": {
   "display_name": "Python 3.6 - AzureML",
   "language": "python",
   "name": "python3-azureml"
  },
  "language_info": {
   "codemirror_mode": {
    "name": "ipython",
    "version": 3
   },
   "file_extension": ".py",
   "mimetype": "text/x-python",
   "name": "python",
   "nbconvert_exporter": "python",
   "pygments_lexer": "ipython3",
   "version": "3.6.9"
  },
  "microsoft": {
   "host": {
    "AzureML": {
     "notebookHasBeenCompleted": true
    }
   }
  },
  "nteract": {
   "version": "nteract-front-end@1.0.0"
  }
 },
 "nbformat": 4,
 "nbformat_minor": 2
}
