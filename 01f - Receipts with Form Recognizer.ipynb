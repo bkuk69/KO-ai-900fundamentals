{
 "cells": [
  {
   "cell_type": "markdown",
   "metadata": {},
   "source": [
    "# Form Recognizer 서비스를 이용하여 영수증 분석\n",
    "\n",
    "![A robot holding a receipt](./images/receipt_analysis.jpg)\n",
    "\n",
    "인공지능(AI) 컴퓨터 비전 분야에서 광학 문자 인식(OCR)은 일반적으로 인쇄된 문서나 손으로 쓴 문서를 읽는 데 사용된다. 종종, 텍스트는 추가 처리나 분석에 사용될 수 있는 형식으로 문서에서 간단히 추출된다.\n",
    "\n",
    "보다 진보된 OCR 시나리오는 양식의 필드가 무엇을 나타내는지를 의미적으로 이해하면서 구매 주문서나 송장 같은 양식에서 정보를 추출하는 것이다. **양식 인식기** 서비스는 이러한 종류의 AI 문제를 위해 특별히 설계되었다.\n",
    "\n",
    "## 영수증 보기\n",
    "\n",
    "이 예에서는 Form Recognizer'에 기본적으로 포함되어 있는 영수증 분석 모델을 사용할 것이다.\n",
    "\n",
    "아래의 셀에 있는 **Run cell** (&#9655;) 버튼(셀의 왼편에 있음)을 클릭하여 Form Recognizwer를 이용하여 영수증을 분석하는 예제를 살펴보자."
   ]
  },
  {
   "cell_type": "code",
   "execution_count": null,
   "metadata": {
    "gather": {
     "logged": 1599694427893
    }
   },
   "outputs": [],
   "source": [
    "import matplotlib.pyplot as plt\n",
    "from PIL import Image\n",
    "import os\n",
    "%matplotlib inline\n",
    "\n",
    "\n",
    "# 영수증 이미지를 로드해서 나타낸다.\n",
    "fig = plt.figure(figsize=(6, 6))\n",
    "image_path = os.path.join('data', 'form-receipt', 'receipt.jpg')\n",
    "img = Image.open(image_path)\n",
    "plt.axis('off')\n",
    "plt.imshow(img)"
   ]
  },
  {
   "cell_type": "markdown",
   "metadata": {},
   "source": [
    "## Form Recognizer 리소스 만들기\n",
    "\n",
    "Azure 구독에서 Form Recognizer 리소스를 생성해보자:\n",
    "\n",
    "1. 브라우저의 새로운 탭을 열고, Azure portal( https://portal.azure.com)을 입력하고 , Microsoft계정으로 로그인한다..\n",
    "2. **&#65291;리소스 만들기** 버튼을 클릭하고, *Form Recognizer* 서비스를 찾는다\n",
    "3. 서비스 리스트에서 **Form Recognizer**를 찾는다.\n",
    "4. **Form Recognizer**에서 **만들기**를 클릭한다.\n",
    "5. **Form Recognizer 만들기**에서 아래의 내용을 입력하고 **만들기**를 클릭한다.\n",
    "    * **이름**: *유일한 이름을 입력한다(가능하면 영문과 숫자사용)*.\n",
    "    * **구독**: *Azure 구독선택*.\n",
    "    * **위치**: *가능한 위치(한국 중부 추천)*:\n",
    "    * **가격책정계층**: F0\n",
    "    * **리소스 그룹**: *원하는 유리한 이름(가능하면 영문과 숫자사용)*\n",
    "    * **검토 + 만들기**를 선택한다.\n",
    "6. 만들기가 완료될 때까지 기다린다. \n",
    "7. Azure Portal에서 Form Recognizer 서비스가 새롭게 생성된 것을 확인하고 **Keys and Endpoint** 페이지에서 **Key1**과 **엔드포인트**값을 복사하고 아래의 셀의 **YOUR_FORM_KEY**와 **YOUR_FORM_ENDPOINT**에 붙여 넣는다."
   ]
  },
  {
   "cell_type": "code",
   "execution_count": null,
   "metadata": {
    "gather": {
     "logged": 1599694505850
    }
   },
   "outputs": [],
   "source": [
    "form_key = 'YOUR_FORM_KEY'\n",
    "form_endpoint = 'YOUR_FORM_ENDPOINT'\n",
    "\n",
    "print('Ready to use form recognizer at {} using key {}'.format(form_endpoint, form_key))"
   ]
  },
  {
   "cell_type": "markdown",
   "metadata": {},
   "source": [
    "Python에서 Form Recognizer리소스를 사용하기 위해서는 Azure Form Recognizer SDK를 설치할 필요가 있다."
   ]
  },
  {
   "cell_type": "code",
   "execution_count": null,
   "metadata": {},
   "outputs": [],
   "source": [
    "! pip install azure_ai_formrecognizer"
   ]
  },
  {
   "cell_type": "markdown",
   "metadata": {},
   "source": [
    "## 영수증 분석하기\n",
    "\n",
    "이제 Form Recognizre를 이용하여 영수증을 분석할 준비가 되었다."
   ]
  },
  {
   "cell_type": "code",
   "execution_count": null,
   "metadata": {
    "gather": {
     "logged": 1599694525404
    }
   },
   "outputs": [],
   "source": [
    "import os\n",
    "from azure.ai.formrecognizer import FormRecognizerClient\n",
    "from azure.core.credentials import AzureKeyCredential\n",
    "\n",
    "# Form Recognizer 서비스를 위한 클라이언트를 만든다.\n",
    "form_recognizer_client = FormRecognizerClient(endpoint=form_endpoint, credential=AzureKeyCredential(form_key))\n",
    "\n",
    "try:\n",
    "    print(\"Analyzing receipt...\")\n",
    "    # 이미지 파일에서 영수증을 가져온다\n",
    "    image_path = os.path.join('data', 'form-receipt', 'receipt.jpg')\n",
    "\n",
    "    # 파일 데이터를 Form Recognizer에 제출한다\n",
    "    with open(image_path, \"rb\") as f:\n",
    "        analyze_receipt = form_recognizer_client.begin_recognize_receipts(receipt=f)\n",
    "    \n",
    "    # 결과 가져오기\n",
    "    receipt_data = analyze_receipt.result()\n",
    "\n",
    "    # 첫번째(그리고 유일한) 영수증으로부터 추출된 데이터를 프린트한다.\n",
    "    receipt = receipt_data[0]\n",
    "    receipt_type = receipt.fields.get(\"ReceiptType\")\n",
    "    if receipt_type:\n",
    "        print(\"Receipt Type: {}\".format(receipt_type.value))\n",
    "    merchant_address = receipt.fields.get(\"MerchantAddress\")\n",
    "    if merchant_address:\n",
    "        print(\"Merchant Address: {}\".format(merchant_address.value))\n",
    "    merchant_phone = receipt.fields.get(\"MerchantPhoneNumber\")\n",
    "    if merchant_phone:\n",
    "        print(\"Merchant Phone: {}\".format(merchant_phone.value))\n",
    "    transaction_date = receipt.fields.get(\"TransactionDate\")\n",
    "    if transaction_date:\n",
    "        print(\"Transaction Date: {}\".format(transaction_date.value))\n",
    "    print(\"Receipt items:\")\n",
    "    items = receipt.fields.get(\"Items\")\n",
    "    if items:\n",
    "        for idx, item in enumerate(receipt.fields.get(\"Items\").value):\n",
    "            print(\"\\tItem #{}\".format(idx+1))\n",
    "            item_name = item.value.get(\"Name\")\n",
    "            if item_name:\n",
    "                print(\"\\t - Name: {}\".format(item_name.value))\n",
    "            item_total_price = item.value.get(\"TotalPrice\")\n",
    "            if item_total_price:\n",
    "                print(\"\\t - Price: {}\".format(item_total_price.value))\n",
    "    subtotal = receipt.fields.get(\"Subtotal\")\n",
    "    if subtotal:\n",
    "        print(\"Subtotal: {} \".format(subtotal.value))\n",
    "    tax = receipt.fields.get(\"Tax\")\n",
    "    if tax:\n",
    "        print(\"Tax: {}\".format(tax.value))\n",
    "    total = receipt.fields.get(\"Total\")\n",
    "    if total:\n",
    "        print(\"Total: {}\".format(total.value))\n",
    "\n",
    "except Exception as ex:\n",
    "    print('Error:', ex)\n"
   ]
  },
  {
   "cell_type": "markdown",
   "metadata": {},
   "source": [
    "Form Recognizer는 양식에서 데이터를 해석하여 가맹점 주소와 전화번호, 거래 날짜와 시간, 회선 항목, 소계, 세금 및 총액을 올바르게 식별할 수 있다.\n",
    "\n",
    "## 더많은 정보\n",
    "\n",
    "Form Recognizer서비스에 대한 더 많은 정보는 다음을 참고하기 바란다. [Form Recognizer 문서](https://docs.microsoft.com/ko-kr/azure/cognitive-services/form-recognizer/index)"
   ]
  }
 ],
 "metadata": {
  "kernel_info": {
   "name": "python3-azureml"
  },
  "kernelspec": {
   "display_name": "Python 3",
   "language": "python",
   "name": "python3"
  },
  "language_info": {
   "codemirror_mode": {
    "name": "ipython",
    "version": 3
   },
   "file_extension": ".py",
   "mimetype": "text/x-python",
   "name": "python",
   "nbconvert_exporter": "python",
   "pygments_lexer": "ipython3",
   "version": "3.8.5"
  },
  "microsoft": {
   "host": {
    "AzureML": {
     "notebookHasBeenCompleted": true
    }
   }
  },
  "nteract": {
   "version": "nteract-front-end@1.0.0"
  }
 },
 "nbformat": 4,
 "nbformat_minor": 2
}
