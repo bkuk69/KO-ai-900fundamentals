{
 "cells": [
  {
   "cell_type": "markdown",
   "metadata": {},
   "source": [
    "# 대화형(Conversational) AI\n",
    "\n",
    "인스턴트 메시징, 소셜 미디어, 전자 메일 또는 기타 온라인 기술을 통해 다른 사람과 얼마나 자주 커뮤니케이션하는지 생각해 보라. 우리들 중 많은 사람들에게, 이것은 우리의 일반적인 연락방식이다. 회사에서 질문이 있을 때 모바일 장치에서 사용할 수 있는 대화 메시지를 사용하여 동료에게 보낼 수 있으므로 항상 연락할 수 있다.\n",
    "\n",
    "![A human and a robot having a conversation](./images/conversational_ai.jpg)\n",
    "\n",
    "봇은 이러한 종류의 채널을 사용하여 통신하는 AI 에이전트로, 소프트웨어 서비스와 자연스럽게 대화할 수 있다.\n",
    "\n",
    "## QnA Maker 기술 자료 만들기\n",
    "\n",
    "고객 지원 시나리오의 경우, 웹 사이트의 채팅 창, 이메일 또는 음성 인터페이스를 통해 자주 묻는 질문을 해석하고 대답할 수 있는 봇을 만드는 것이 일반적이다. 봇 인터페이스의 기본에는 적절한 응답을 검색할 수 있는 질문과 적절한 대답을 제공하는 기술 자료(Knowledge Base)가 있다.\n",
    "\n",
    "QnA Maker 서비스는 Azure에서 질의응답 쌍을 입력하거나 기존 문서나 웹 페이지에서 빠르게 지식 기반을 만들 수 있는 인지 서비스이다. 그런 다음 내장된 자연어 처리 기능을 사용하여 질문을 해석하고 적절한 답을 찾을 수 있다.\n",
    "\n",
    "1. 브라우저의 새로운 탭을 열고 QnA Maker 포털(https://qnamaker.ai)로 간다. Azure 구독에 사용한 Microsoft 계정을 사용하여 로그인 한다.\n",
    "2. QnA Maker 포털에서 **Create a knowledge base** 선택한다.\n",
    "3. 만일 이전에 QnA서비스 리소스를 만든적이 없다면 **Create a QnA service**를 클릭한다. Azure 포털 서비스가 새로운 탭에서 실행되고 구독 서비스에서 QnA Maker 서비스를 만들 수 있다. 다음 내용으로 설정한다.\n",
    "  - **이름**: *QnA리소스를 위한 유일한 이름*\n",
    "  - **구독**: *현재 구독을 선택*\n",
    "  - **가격 책정 계층**: F0\n",
    "  - **리소스 그룹**: *Select an existing resource group or create a new one*\n",
    "  - **Azure Search 가격 계층**: F\n",
    "  - **Azure Search 위치**: *Any available location*\n",
    "  - **앱 이름**: **이름과 동일** (\".azurewebsites.net\" 이름이 자동으로 뒤에 붙는다)_\n",
    "  - **웹 사이트 위치 **: **Azure Search 위치**값과 동일하게 부여함\n",
    "  - **App insights**: 사용 안함\n",
    "\n",
    "> **Note**: 이미 무료 계층으로 **QnA Maker**나  **Azure Search** 리소스를 만들었다면 추가로 만들 수 없다. 그런 경우 **F0** / **F**외에 다른 것을 선택해야 한다..\n",
    "\n",
    "4. Azure portal에 있는 QnA 서비스와 관련 리소스들이 구축되기까지 기다린다.\n",
    "5. QnA Maker 포털 탭으로 돌아와서 **Step 2**부분에서 **Refresh** 클릭하여 사용가능한 QnA서비스 리소스 목록이 나타나도록 한다.\n",
    "6. 다음과 같은 순서로 QnA서비스를 기술자료(KB)에 연결하도록 한다.\n",
    "  - **Microsoft Azure Directory ID**: *구독에 대한 Azure 디렉터리 ID(보통 기본 디렉턱리)*\n",
    "  - **Azure subscription name**: *Azure 구독을 선택*\n",
    "  - **Azure QnA service**: *이번 과정에서 생성한 QnA 서비스 리소스를 선택*\n",
    "  - **Language**: English\n",
    "\n",
    "> **팁**: 만일 이런 내용들이 모두 나타나지 않는다면 QnA Maker 포털 브라우저 페이지를 새로고침한다.\n",
    "\n",
    "7. **Step 3** 부분에서, **Margie's Travel KB**라고 이름란에 입력한다.\n",
    "8. **Step 4** 부분에서,  **URL** 상자에,  <a href=''>*https://github.com/MicrosoftDocs/ai-fundamentals/raw/master/data/qna_bot/margies_faq.docx*</a>를 입력하고**+ Add URL** 을 클릭한다. 그런 다음 **Chit-chat** 밑에서 **Professional** 을 선택한다.\n",
    "9. **Step 5** 부분에서, **Create your KB**을 클릭한다.\n",
    "10. 기술자료가 생성될 때까지 1분 이상 기다린다. 그리고 나서 FAQ 문서로부터 가져온 질문과 답변 내용과 미리 정한 chit-chat 응답 내용을 확인한다.\n",
    "\n",
    "## 기술 자료 편집하기\n",
    "\n",
    "기술 자료는 FAQ 문서의 세부 정보와 몇 가지 사전 정의된 응답을 기반으로 한다. 사용자 지정 질문과 대답 쌍을 추가하여 이러한 쌍을 보완할 수 있다.\n",
    "\n",
    "1. **+ Add QnA pair** 클릭한다.\n",
    "2. **Question** 상자에, `Hello`을 입력하고. **+ Add alternative phrasing** 선택한 다음 `Hi` 입력한다.\n",
    "3. **Answer** 상자에, `Hello`를 입력한다.\n",
    "\n",
    "## 기술 자료 학습시키기 및 테스트하기\n",
    "\n",
    "이제 기술 자료가 완성되어 QnA Maker 포털에서 테스트 할 수 있다.\n",
    "\n",
    "1. 페이지의 위쪽 오른편에서**Save and train** 를 클릭하여 기술 자료를 학습시킨다.\n",
    "2. 학습이 끝나면 **&larr; Test** 를 클릭하여 테스트 창을 연다.\n",
    "3. 테스트 창에서, 밑에다 *Hi*라는 메시지를 입력하고 엔터를 누른다. 그러면  **Hello**라는 응답을 가져와서 보여주게 될 것이다.\n",
    "4. 테스트 창에서, 밑에다 *I want to book a flight*라는 메시지를 입력하고 엔터를 누른다. FAQ로부터 알맞은 메시지가 되돌아 오는지 확인해보자.\n",
    "5. 기술 자료에 대한 테스트를 마쳤다면 **&rarr; Test** 클릭하여 테스트 창을 닫는다.\n",
    "\n",
    "## 기술 자료를 사용하여 봇(Bot)생성하기\n",
    "\n",
    "기술 자료는 클라이언트 응용 프로그램이 일종의 사용자 인터페이스를 통해 질문에 대답하는 데 사용할 수 있는 백엔드 서비스를 제공한다. 일반적으로 이러한 클라이언트 응용 프로그램은 봇이다. 봇에서 기술 자료를 사용하려면 HTTP를 통해 액세스할 수 있는 서비스로 게시해야 한다. 그런 다음 Azure Bot Service를 사용하여 기술 자료를 사용하여 사용자 질문에 답변하는 봇을 만들고 호스팅할 수 있다.\n",
    "\n",
    "1. QnA Make 페이지의 위에서**Publish**를 클릭한다. 그리고 나서 **Margies Travel KB** 페이지에서 **Publish**클릭한다.\n",
    "2. 서비스가 구축된 후에 **Create Bot**을 클릭한다. 새로운 탭에서 Azure 포털이 열려서  Azure 구독에서 Web App Bot을 하나 만든다.\n",
    "3. Azure 포털에서, 다음과 같은 설정사항(대부분은 이미 만들어져 있음)으로 웹 앱 봇(Web App Bot)을 만든다\n",
    "  - **봇 핸들**: *봇에 대한 유일한 이름*\n",
    "  - **구독**: *Azure 구독 선택*\n",
    "  - **리소스 그룹**: * QnA Maker 리소스를 포함하고 있는 리소스 그룹*\n",
    "  - **위치**: *QnA Maker 서비스와 같은 위치*.\n",
    "  - **가격 책정 계층**: F0\n",
    "  - **앱 이름**: **봇 핸들**과 동일한 이름으로 *.azurewebsites.net*이 자동으로 뒤에 붙음\n",
    "  - **SDK 언어**: *C# 또는 Node.js를 선택*\n",
    "  - **QnA 인증 키**: *이것은 자동으로 QnA 기술자료에 설정되능 인증키를 사용해야 한다.\n",
    "  - **앱 서비스 계획/위치**: *이것은 자동으로 알맞은 계획과 위치가 설정되도록 두어야 한다*\n",
    "  - **Application Insights**: Off\n",
    "  - **Microsoft 앱 ID 및 암호**: 자동으로 App ID와 암호가 생성된다.\n",
    "4. 봇이 만들어질 때까지 기다린다(윗쪽 오른편에 알림아이콘에 벨 모양으로 동작으로 알림이 나타난다) 그리고 나서 구축이 완료된 후 **리소스로 이동**(또는 홈 페이지에서 **리소스 그룹**을 클릭한 다음 웹 앱 봇이 생성된 리소스 그룹을 선택한다 )을 클릭한다.\n",
    "5. 봇 페이지에서 **Test in Web Chat** 메뉴을 선택하고 **Hello and welcome!** 메시지를 출력할 때까지 기다린다(초기화 되려면 몇초를 기다려야 할 수 있다). \n",
    "6. 테스트 챗 인터페이스를 사용하여 기술 자료에 있는 질문을 입력해서 어떻게 나오는지 확인한다. 예를 들면 *I need to cancel my hotel*이라 입력한다.\n",
    "\n",
    "## Access the Bot through a Channel\n",
    "\n",
    "봇을 사용하여 하나 이상의 *채널*을 통해 사용자를 위한 인터페이스를 제공할 수 있다. 예를 들어, 동일한 봇이 웹 채팅 인터페이스, 이메일 및 Microsoft Teams를 통한 상호 작용을 지원할 수 있다.\n",
    "\n",
    "\n",
    "1. Azure 포털에서, 만든 봇 서비스를 선택하고 **Channels** 페이지를 확인한다.\n",
    "2. **Web Chat**채널이 자동으로 추가된 것을 확인하고 일반적인 의사소통 플랫폼을 위한 사용가능한 다른 채널들이 나타나 있다\n",
    "3. **Web Chat** 채널 업에서 **편집**을 클릭한다. 이렇게 하면 웹 페이지에 봇을 추가하는데 필요한 설정들이 나타나 있다. 봇을 임베드하기 위해서는 봇을 위해 생성된 암호키와 HTML 임배드 코드가 필요하다.\n",
    "4. **임배드 코드**를 복사하고 아레 셀의 '<!-- EMBED CODE GOES HERE -->'란에 붙여 넣는다.\n",
    "5. 암호키들 중 하나를 선택하고 **표시**(어떤 것이든지 상관 없음)를 클릭한 후에 값을 복사 한다. 그리고 나서 아래의 HTML 임베드 코드에 있는  `YOUR_SECRET_HERE` 를 대체하여 붙여 넣는다.\n",
    "6. HTML코드에 있는 **min-height** 값을**200px**로 바꾼다(기본 값인 500px 대신 넣어야 함). 이것은 마우스를 스크롤 할 필요 없이 HTML 페이지를 볼 수 있다.This will help ensure the HTML interface is visible without scrolling.\n",
    "7. 아래 셀의 왼쪽에 있는 **Run cell** (&#9655;) 버튼을 클릭하여 HTML코드를 랜더링한다.\n",
    "8. HTML 채팅 인터페이스에서 *Who is Margie?* 나 *What destinations can I go to?*와 같은 질문을 넣어서 테스트 한다.(봇이 초기화할때 질문에 대한 답변 외에도 *Hello and welcome* 메시지를 보여준다w.\n"
   ]
  },
  {
   "cell_type": "code",
   "execution_count": 2,
   "metadata": {},
   "outputs": [
    {
     "data": {
      "text/html": [
       "\n",
       "<!-- EMBED CODE GOES HERE -->\n"
      ],
      "text/plain": [
       "<IPython.core.display.HTML object>"
      ]
     },
     "metadata": {},
     "output_type": "display_data"
    }
   ],
   "source": [
    "%%html\n",
    "\n",
    "<!-- EMBED CODE GOES HERE -->"
   ]
  },
  {
   "cell_type": "markdown",
   "metadata": {},
   "source": [
    "봇으로 실험해보라. FAQ의 질문에 대해 매우 정확하게 답변할 수 있지만 교육받지 않은 질문을 해석하는 능력은 제한적이다. 언제든지 QnA Maker 포털을 사용하여 기술 자료를 편집하여 개선한 후 다시 게시할 수 있다.\n",
    "\n",
    "## 심화학습\n",
    "\n",
    "- QnA Maker 서비스에 대해서 더 알아보기 위해서는 [QnA Maker 문서](https://docs.microsoft.com/azure/cognitive-services/qnamaker/)를 확인하라.\n",
    "- Microsoft Bot 서비스에 대해서 더 알아보기 위해서는 [Azure Bot 페이지](https://azure.microsoft.com/services/bot-service/) 를 확인하라."
   ]
  }
 ],
 "metadata": {
  "kernel_info": {
   "name": "python3-azureml"
  },
  "kernelspec": {
   "display_name": "Python 3.6 - AzureML",
   "language": "python",
   "name": "python3-azureml"
  },
  "language_info": {
   "codemirror_mode": {
    "name": "ipython",
    "version": 3
   },
   "file_extension": ".py",
   "mimetype": "text/x-python",
   "name": "python",
   "nbconvert_exporter": "python",
   "pygments_lexer": "ipython3",
   "version": "3.6.9"
  },
  "nteract": {
   "version": "nteract-front-end@1.0.0"
  }
 },
 "nbformat": 4,
 "nbformat_minor": 2
}
